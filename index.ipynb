{
 "cells": [
  {
   "cell_type": "markdown",
   "metadata": {},
   "source": [
    "# Introduction to Neural Networks - Lab"
   ]
  },
  {
   "cell_type": "markdown",
   "metadata": {},
   "source": [
    "## Introduction"
   ]
  },
  {
   "cell_type": "markdown",
   "metadata": {},
   "source": [
    "Congratulations, you made it to your first lab! In this lab, you'll practice everything you have learned during the lecture. We know there is quite a bit of math involved, but don't worry! Using Python and trying things out yourself will actually make a lot of things much more clear! Before we start, let's load some necessary libraries so we can import our data."
   ]
  },
  {
   "cell_type": "markdown",
   "metadata": {},
   "source": [
    "## Objectives\n",
    "\n",
    "You will be able to:\n",
    "* Import images using Keras\n",
    "* Build a simple neural network"
   ]
  },
  {
   "cell_type": "markdown",
   "metadata": {},
   "source": [
    "As usual, we'll start by importing the necessary packages that we'll use in this lab."
   ]
  },
  {
   "cell_type": "code",
   "execution_count": 1,
   "metadata": {
    "scrolled": true
   },
   "outputs": [
    {
     "name": "stdout",
     "output_type": "stream",
     "text": [
      "Requirement already satisfied: pillow in /opt/conda/envs/learn-env/lib/python3.6/site-packages (6.0.0)\n",
      "\u001b[33mYou are using pip version 10.0.1, however version 19.1.1 is available.\n",
      "You should consider upgrading via the 'pip install --upgrade pip' command.\u001b[0m\n"
     ]
    }
   ],
   "source": [
    "!pip install pillow"
   ]
  },
  {
   "cell_type": "code",
   "execution_count": 2,
   "metadata": {},
   "outputs": [
    {
     "name": "stderr",
     "output_type": "stream",
     "text": [
      "Using TensorFlow backend.\n"
     ]
    }
   ],
   "source": [
    "from keras.preprocessing.image import ImageDataGenerator, array_to_img, img_to_array, load_img\n",
    "import numpy as np\n",
    "import os"
   ]
  },
  {
   "cell_type": "markdown",
   "metadata": {},
   "source": [
    "In this lab, you'll get a bunch of images, and the purpose is to correctly classify these images as \"Santa\", meaning that Santa is present on the image or \"not Santa\" meaning that something else is in the images. \n",
    "\n",
    "If you have a look at this github repository, you'll notice that the images are simply stored in .jpeg-files and stored under the folder `/data`. Luckily, `keras` had great modules that make importing images stored in this type of format easy. We'll do this for you in the code below.\n",
    "\n",
    "The images in the `/data` folder have various resultions. We will reshape them so they are all have 64 x 64 pixels."
   ]
  },
  {
   "cell_type": "code",
   "execution_count": 3,
   "metadata": {},
   "outputs": [
    {
     "name": "stdout",
     "output_type": "stream",
     "text": [
      "00000386.jpg  00000401.jpg  00000416.jpg  00000431.jpg\t00000446.jpg\r\n",
      "00000387.jpg  00000402.jpg  00000417.jpg  00000432.jpg\t00000447.jpg\r\n",
      "00000388.jpg  00000403.jpg  00000418.jpg  00000433.jpg\t00000448.jpg\r\n",
      "00000389.jpg  00000404.jpg  00000419.jpg  00000434.jpg\t00000449.jpg\r\n",
      "00000390.jpg  00000405.jpg  00000420.jpg  00000435.jpg\t00000450.jpg\r\n",
      "00000391.jpg  00000406.jpg  00000421.jpg  00000436.jpg\t00000451.jpg\r\n",
      "00000392.jpg  00000407.jpg  00000422.jpg  00000437.jpg\t00000452.jpg\r\n",
      "00000393.jpg  00000408.jpg  00000423.jpg  00000438.jpg\t00000453.jpg\r\n",
      "00000394.jpg  00000409.jpg  00000424.jpg  00000439.jpg\t00000454.jpg\r\n",
      "00000395.jpg  00000410.jpg  00000425.jpg  00000440.jpg\t00000455.jpg\r\n",
      "00000396.jpg  00000411.jpg  00000426.jpg  00000441.jpg\t00000456.jpg\r\n",
      "00000397.jpg  00000412.jpg  00000427.jpg  00000442.jpg\t00000457.jpg\r\n",
      "00000398.jpg  00000413.jpg  00000428.jpg  00000443.jpg\t00000458.jpg\r\n",
      "00000399.jpg  00000414.jpg  00000429.jpg  00000444.jpg\t00000459.jpg\r\n",
      "00000400.jpg  00000415.jpg  00000430.jpg  00000445.jpg\t00000460.jpg\r\n"
     ]
    }
   ],
   "source": [
    "!ls data/validation/not_santa/"
   ]
  },
  {
   "cell_type": "code",
   "execution_count": 4,
   "metadata": {},
   "outputs": [
    {
     "name": "stdout",
     "output_type": "stream",
     "text": [
      "Found 132 images belonging to 2 classes.\n",
      "Found 790 images belonging to 2 classes.\n"
     ]
    }
   ],
   "source": [
    "# directory path\n",
    "train_data_dir = 'data/train'\n",
    "test_data_dir = 'data/validation'\n",
    "\n",
    "# get all the data in the directory data/validation (132 images), and reshape them\n",
    "test_generator = ImageDataGenerator().flow_from_directory(\n",
    "        test_data_dir, \n",
    "        target_size=(64, 64), batch_size=132)\n",
    "\n",
    "# get all the data in the directory data/train (790 images), and reshape them\n",
    "train_generator = ImageDataGenerator().flow_from_directory(\n",
    "        train_data_dir, \n",
    "        target_size=(64, 64), batch_size=790)\n",
    "\n",
    "# create the data sets\n",
    "train_images, train_labels = next(train_generator)\n",
    "test_images, test_labels = next(test_generator)"
   ]
  },
  {
   "cell_type": "markdown",
   "metadata": {},
   "source": [
    "## Inspecting and preparing the data"
   ]
  },
  {
   "cell_type": "markdown",
   "metadata": {},
   "source": [
    "## Look at some images"
   ]
  },
  {
   "cell_type": "markdown",
   "metadata": {},
   "source": [
    "Note that we have 4 numpy arrays now: `train_images`, `train_labels`, `test_images`, `test_labels`. We'll need to make some changes to the data in order to make them workable, but before we do anything else, let's have a look at some of the images we loaded. We'll look at some images in train_images. You can use `array_to_img()` from `keras.processing.image` on any `train_image` (select any train_image by doing `train_image[index]` to look at it."
   ]
  },
  {
   "cell_type": "code",
   "execution_count": 5,
   "metadata": {},
   "outputs": [
    {
     "data": {
      "image/png": "[encoded data removed]",
      "text/plain": [
       "<PIL.Image.Image image mode=RGB size=64x64 at 0x7F1070768518>"
      ]
     },
     "execution_count": 5,
     "metadata": {},
     "output_type": "execute_result"
    }
   ],
   "source": [
    "#Your code here preview an image \n",
    "array_to_img(train_images[0])"
   ]
  },
  {
   "cell_type": "code",
   "execution_count": 6,
   "metadata": {},
   "outputs": [
    {
     "data": {
      "image/png": "[encoded data removed]",
      "text/plain": [
       "<PIL.Image.Image image mode=RGB size=64x64 at 0x7F105F339B70>"
      ]
     },
     "execution_count": 6,
     "metadata": {},
     "output_type": "execute_result"
    }
   ],
   "source": [
    "#Your code here preview a second image\n",
    "array_to_img(test_images[0])"
   ]
  },
  {
   "cell_type": "markdown",
   "metadata": {},
   "source": [
    "## The shape of the data"
   ]
  },
  {
   "cell_type": "markdown",
   "metadata": {},
   "source": [
    "Now, let's use `np.shape()` to look at what these numpy arrays look like."
   ]
  },
  {
   "cell_type": "code",
   "execution_count": 7,
   "metadata": {},
   "outputs": [
    {
     "data": {
      "text/plain": [
       "(64, 64, 3)"
      ]
     },
     "execution_count": 7,
     "metadata": {},
     "output_type": "execute_result"
    }
   ],
   "source": [
    "# Preview the shape of both the images and labels for both the train and test set (4 objects total)\n",
    "# Your code here\n",
    "test_images[0].shape"
   ]
  },
  {
   "cell_type": "code",
   "execution_count": 8,
   "metadata": {},
   "outputs": [
    {
     "data": {
      "text/plain": [
       "(132, 64, 64, 3)"
      ]
     },
     "execution_count": 8,
     "metadata": {},
     "output_type": "execute_result"
    }
   ],
   "source": [
    "test_images.shape"
   ]
  },
  {
   "cell_type": "markdown",
   "metadata": {},
   "source": [
    "##  `train_images` and `test_images`"
   ]
  },
  {
   "cell_type": "markdown",
   "metadata": {},
   "source": [
    "Let's start with `train_images`. From the lecture, you might remember that the expected input shape is $n$ x $l$. How does this relate to what we see here?\n",
    "\n",
    "$l$ denotes the number of observations, or the number of images. The number of images in `train_images` is 790. $n$ is the number of elements in the feature vector for each image, or put differently, $n$ is the number of rows when unrowing the 3 (RGB) 64 x 64 matrices. \n",
    "\n",
    "So, translated to this example, we need to transform our `(790, 64, 64, 3)` matrix to a `(64*64*3, 790)` matrix! Hint: you should use both the `.reshape`-function and a transpose `.T`."
   ]
  },
  {
   "cell_type": "code",
   "execution_count": 9,
   "metadata": {},
   "outputs": [
    {
     "data": {
      "text/plain": [
       "(12288, 790)"
      ]
     },
     "execution_count": 9,
     "metadata": {},
     "output_type": "execute_result"
    }
   ],
   "source": [
    "# train_img_unrow = #Reshape the train images using the hints above\n",
    "train_images.shape\n",
    "train_img_unrow = train_images.reshape(790, 64*64*3).T\n",
    "train_img_unrow = train_images.reshape(790, -1).T\n",
    "train_img_unrow.shape"
   ]
  },
  {
   "cell_type": "markdown",
   "metadata": {},
   "source": [
    "Let's use np.shape on the newly created `train_img_unrow` to verify that the shape is correct."
   ]
  },
  {
   "cell_type": "code",
   "execution_count": 10,
   "metadata": {},
   "outputs": [
    {
     "data": {
      "text/plain": [
       "(12288, 790)"
      ]
     },
     "execution_count": 10,
     "metadata": {},
     "output_type": "execute_result"
    }
   ],
   "source": [
    "#Your code here; Preview the shape of your new object\n",
    "train_img_unrow.shape"
   ]
  },
  {
   "cell_type": "markdown",
   "metadata": {},
   "source": [
    "Next, let's transform test_images in a similar way. Note that the dimensions are different here! Where we needed to have a matrix shape if $ n$ x $l $ for `train_images`, for `test_images`, we need to get to a shape of $ n$ x $m$. What is $m$ here?"
   ]
  },
  {
   "cell_type": "code",
   "execution_count": 11,
   "metadata": {},
   "outputs": [],
   "source": [
    "# m = #Define appropriate m \n",
    "m = test_images.shape[0]\n",
    "test_img_unrow = test_images.reshape(m, -1).T"
   ]
  },
  {
   "cell_type": "code",
   "execution_count": 12,
   "metadata": {},
   "outputs": [
    {
     "data": {
      "text/plain": [
       "(12288, 132)"
      ]
     },
     "execution_count": 12,
     "metadata": {},
     "output_type": "execute_result"
    }
   ],
   "source": [
    "#Your code here; Once again preview the shape of your updated object\n",
    "test_img_unrow.shape"
   ]
  },
  {
   "cell_type": "markdown",
   "metadata": {},
   "source": [
    "## `train_labels` and `test_labels`"
   ]
  },
  {
   "cell_type": "markdown",
   "metadata": {},
   "source": [
    "Earlier, you noticed that `train_labels` and `test_labels` have shapes of $(790, 2)$ and $(132, 2)$ respectively. In the lecture, we expected $1$ x $l$ and $1$ x $m$.\n",
    "\n",
    "Let's have a closer look."
   ]
  },
  {
   "cell_type": "code",
   "execution_count": 13,
   "metadata": {},
   "outputs": [
    {
     "data": {
      "text/plain": [
       "array([[1., 0.],\n",
       "       [0., 1.],\n",
       "       [1., 0.],\n",
       "       ...,\n",
       "       [0., 1.],\n",
       "       [1., 0.],\n",
       "       [0., 1.]], dtype=float32)"
      ]
     },
     "execution_count": 13,
     "metadata": {},
     "output_type": "execute_result"
    }
   ],
   "source": [
    "train_labels #Run this block of code; no need to edit"
   ]
  },
  {
   "cell_type": "code",
   "execution_count": 14,
   "metadata": {},
   "outputs": [
    {
     "data": {
      "text/plain": [
       "(790, 2)"
      ]
     },
     "execution_count": 14,
     "metadata": {},
     "output_type": "execute_result"
    }
   ],
   "source": [
    "train_labels.shape"
   ]
  },
  {
   "cell_type": "markdown",
   "metadata": {},
   "source": [
    "Looking at this, it's clear that for each observation (or image), train_labels doesn't simply have an output of 1 or 0, but a pair either `[0,1]` or `[1,0]`.\n",
    "\n",
    "Having this information, we still don't know which pair correcponds with `santa` versus `not_santa`. Luckily, what this was stored using `keras.preprocessing_image`, and you can get more info using the command `train_generator.class_indices`."
   ]
  },
  {
   "cell_type": "code",
   "execution_count": 15,
   "metadata": {},
   "outputs": [
    {
     "data": {
      "text/plain": [
       "{'not_santa': 0, 'santa': 1}"
      ]
     },
     "execution_count": 15,
     "metadata": {},
     "output_type": "execute_result"
    }
   ],
   "source": [
    "train_generator.class_indices #Run this block of code; no need to edit"
   ]
  },
  {
   "cell_type": "markdown",
   "metadata": {},
   "source": [
    "Index 0 (the first column) represents `not_santa`, index 1 represents `santa`. Select one of the two columns and transpose the result such that you get a $1$ x $l$ and $1$ x $m$ vector respectively, and value `1` represents `santa`"
   ]
  },
  {
   "cell_type": "code",
   "execution_count": 16,
   "metadata": {},
   "outputs": [],
   "source": [
    "# train_labels_final = #Your code here\n",
    "train_labels_final = train_labels[:,1]"
   ]
  },
  {
   "cell_type": "code",
   "execution_count": 17,
   "metadata": {},
   "outputs": [
    {
     "data": {
      "text/plain": [
       "(790,)"
      ]
     },
     "execution_count": 17,
     "metadata": {},
     "output_type": "execute_result"
    }
   ],
   "source": [
    "np.shape(train_labels_final) #Run this block of code; no need to edit"
   ]
  },
  {
   "cell_type": "code",
   "execution_count": 18,
   "metadata": {},
   "outputs": [],
   "source": [
    "# test_labels_final = #Your code here; same as above but for the test labels.\n",
    "test_labels_final = test_labels[:,1]"
   ]
  },
  {
   "cell_type": "code",
   "execution_count": 19,
   "metadata": {},
   "outputs": [
    {
     "data": {
      "text/plain": [
       "(132,)"
      ]
     },
     "execution_count": 19,
     "metadata": {},
     "output_type": "execute_result"
    }
   ],
   "source": [
    "np.shape(test_labels_final) #Run this block of code; no need to edit"
   ]
  },
  {
   "cell_type": "markdown",
   "metadata": {},
   "source": [
    "As a final sanity check, look at an image and the corresponding label, so we're sure that santa is indeed stored as `1`.\n",
    "\n",
    "- First, use `array_to_image` again on the original `train_images` with index 240 to look at this particular image.\n",
    "- Use train_labels_final to get the 240th label."
   ]
  },
  {
   "cell_type": "code",
   "execution_count": 20,
   "metadata": {},
   "outputs": [
    {
     "data": {
      "image/png": "[encoded data removed]",
      "text/plain": [
       "<PIL.Image.Image image mode=RGB size=64x64 at 0x7F105F30BE10>"
      ]
     },
     "execution_count": 20,
     "metadata": {},
     "output_type": "execute_result"
    }
   ],
   "source": [
    "#Your code here; preview train images 240\n",
    "array_to_img(train_images[240])"
   ]
  },
  {
   "cell_type": "code",
   "execution_count": 21,
   "metadata": {},
   "outputs": [
    {
     "data": {
      "text/plain": [
       "1.0"
      ]
     },
     "execution_count": 21,
     "metadata": {},
     "output_type": "execute_result"
    }
   ],
   "source": [
    "#Your code here; preview train labels 240\n",
    "train_labels_final[240]"
   ]
  },
  {
   "cell_type": "markdown",
   "metadata": {},
   "source": [
    "This seems to be correct! Feel free to try out other indices as well."
   ]
  },
  {
   "cell_type": "markdown",
   "metadata": {},
   "source": [
    "## Lastly, you'll want to standardize the data"
   ]
  },
  {
   "cell_type": "markdown",
   "metadata": {},
   "source": [
    "Remember that each RGB pixel in an image takes a value between 0 and 255. In Deep Learning, it is very common to standardize and/or center your data set. For images, a common thing that is done is to make sure each pixel value is between 0 and 1. This can be done by dividing the entire matrix by 255. Do this here for the `train_img_unrow` and `test_img_unrow`."
   ]
  },
  {
   "cell_type": "code",
   "execution_count": 22,
   "metadata": {},
   "outputs": [],
   "source": [
    "#Your code here\n",
    "train_img_unrow /= 255\n",
    "test_img_unrow /= 255"
   ]
  },
  {
   "cell_type": "markdown",
   "metadata": {},
   "source": [
    "In what follows, we'll work with `train_img_final`, `test_img_final`, `train_labels_final`, `test_labels_final`."
   ]
  },
  {
   "cell_type": "markdown",
   "metadata": {},
   "source": [
    "## Building a logistic regression-based neural network"
   ]
  },
  {
   "cell_type": "markdown",
   "metadata": {},
   "source": [
    "## Math recap"
   ]
  },
  {
   "cell_type": "markdown",
   "metadata": {},
   "source": [
    "Now we can go ahead and build our own basic logistic regression-based neural network to disctinguish images with Santa from images without Santa. You've seen in the lecture that logistic regression can actually be represented a a very simple neural network.\n",
    "\n",
    "Remember that we defined that, for each $x^{(i)}$:\n",
    "\n",
    "\n",
    "$$ \\mathcal{L}(\\hat y ^{(i)}, y^{(i)}) =  - \\big( y^{(i)} \\log(\\hat y^{(i)}) + (1-y^{(i)} )  \\log(1-\\hat y^{(i)})\\big)$$\n",
    "\n",
    "$$\\hat{y}^{(i)} = \\sigma(z^{(i)}) = \\frac{1}{1 + e^{-(z^{(i)})}}$$ \n",
    "\n",
    "$$z^{(i)} = w^T x^{(i)} + b$$\n",
    "\n",
    "The cost function is then given by:\n",
    "$$J(w,b) = \\dfrac{1}{l}\\displaystyle\\sum^l_{i=1}\\mathcal{L}(\\hat y^{(i)}, y^{(i)})$$"
   ]
  },
  {
   "cell_type": "markdown",
   "metadata": {},
   "source": [
    "In the remainder of this lab, you'll do the following:\n",
    "\n",
    "   - You'll learn how to initialize the parameters of the model\n",
    "   - You'll perform forward propagation, and calculate the current loss\n",
    "   - You'll perform backward propagation (which is basically calculating the current gradient)\n",
    "   - You'll update the parameters (gradient descent)"
   ]
  },
  {
   "cell_type": "markdown",
   "metadata": {},
   "source": [
    "## Parameter initialization"
   ]
  },
  {
   "cell_type": "markdown",
   "metadata": {},
   "source": [
    "$w$ and $b$ are the unknown parameters to start with. We'll initialize them as 0.\n",
    "- remember that $b$ is a scalar\n",
    "- $w$ however, is a vector of shape $n$ x $1$, with $n$ being `horiz_pixel x vertic_pixel x 3`"
   ]
  },
  {
   "cell_type": "markdown",
   "metadata": {},
   "source": [
    "## initialize b"
   ]
  },
  {
   "cell_type": "markdown",
   "metadata": {},
   "source": [
    " Initialize b as a scalar with value 0."
   ]
  },
  {
   "cell_type": "code",
   "execution_count": 28,
   "metadata": {},
   "outputs": [],
   "source": [
    "#Your code here\n",
    "b = 0.0"
   ]
  },
  {
   "cell_type": "markdown",
   "metadata": {},
   "source": [
    "## Initialize w"
   ]
  },
  {
   "cell_type": "markdown",
   "metadata": {},
   "source": [
    "Create a function `init_w(n)` such that when n is filled out, you get a vector with zeros that has a shape $n$ x $1$."
   ]
  },
  {
   "cell_type": "code",
   "execution_count": 29,
   "metadata": {},
   "outputs": [],
   "source": [
    "#Your code here; define your function\n",
    "def init_w(n):\n",
    "    return np.zeros((n,1))"
   ]
  },
  {
   "cell_type": "code",
   "execution_count": 30,
   "metadata": {},
   "outputs": [
    {
     "data": {
      "text/plain": [
       "array([[0.],\n",
       "       [0.],\n",
       "       [0.],\n",
       "       [0.]])"
      ]
     },
     "execution_count": 30,
     "metadata": {},
     "output_type": "execute_result"
    }
   ],
   "source": [
    "init_w(4)"
   ]
  },
  {
   "cell_type": "code",
   "execution_count": 31,
   "metadata": {},
   "outputs": [
    {
     "data": {
      "text/plain": [
       "(array([[0.],\n",
       "        [0.],\n",
       "        [0.]]), (12288, 1))"
      ]
     },
     "execution_count": 31,
     "metadata": {},
     "output_type": "execute_result"
    }
   ],
   "source": [
    "#Your code here; call your function using appropriate parameters\n",
    "n = 64*64*3\n",
    "w = init_w(n)\n",
    "w[:3], w.shape"
   ]
  },
  {
   "cell_type": "markdown",
   "metadata": {},
   "source": [
    "## Forward propagation"
   ]
  },
  {
   "cell_type": "markdown",
   "metadata": {},
   "source": [
    "Forward Propagation:\n",
    "- You get `x`\n",
    "- You compute `y_hat`: \n",
    "$$ (\\hat y^{(1)}, \\hat y^{(2)}, \\ldots , \\hat y^{(l)})= \\sigma(w^T x + b) = \\Biggr(\\dfrac{1}{1+exp-(w^T x^{(1)}+ b)},\\ldots, \\dfrac{1}{1+exp-(w^T x^{(l)}+ b)}\\Biggr) $$\n",
    "- You calculate the `cost` function: $J(w,b) = -\\dfrac{1}{l}\\displaystyle\\sum_{i=1}^{l}y^{(i)}\\log(\\hat y^{(i)})+(1-y^{(i)})\\log(1-\\hat y^{(i)})$\n",
    "\n",
    "Here are the two formulas you will be using to compute the gradients. Don't be scared off by the mathematics. The long formulas are just to show that this corresponds with what we derived in the lectures!\n",
    "\n",
    "$$ \\frac{dJ(w,b)}{dw} = \\displaystyle\\frac{1}{l}\\displaystyle\\sum^l_{i=1} \\frac{d\\mathcal{L}(\\hat y^{(i)}, y^{(i)})}{dw}= \\displaystyle\\frac{1}{l}\\displaystyle\\sum^l_{i=1} x^{(i)} dz^{(i)}  = \\displaystyle\\frac{1}{l}\\displaystyle\\sum^l_{i=1} x^{(i)}(\\hat y^{(i)}-y^{(i)})  = \\frac{1}{l}x(\\hat y-y)^T$$\n",
    "\n",
    "$$ \\frac{dJ(w,b)}{db} = \\displaystyle\\frac{1}{l}\\displaystyle\\sum^l_{i=1} \\frac{d\\mathcal{L}(\\hat y^{(i)}, y^{(i)})}{db}= \\displaystyle\\frac{1}{l}\\displaystyle\\sum^l_{i=1} dz^{(i)}  = \\displaystyle\\frac{1}{l}\\displaystyle\\sum^l_{i=1} (\\hat y^{(i)}-y^{(i)})$$"
   ]
  },
  {
   "cell_type": "code",
   "execution_count": 32,
   "metadata": {},
   "outputs": [],
   "source": [
    "#Your code here; define the propagation function\n",
    "def propagate(w, b, x, y):\n",
    "    l = x.shape[0]\n",
    "    z = w.T @ x + b\n",
    "    y_hat = 1 / (1 + np.exp(-z))\n",
    "    cost = (-1 / l) * (y * (np.log(y_hat)) + (1-y) * np.log(1-y_hat)).sum()\n",
    "    dw = (1 / l) * (x @ (y_hat - y).T)\n",
    "    db = (1 / l) * (y_hat - y).sum()\n",
    "    return dw, db, cost"
   ]
  },
  {
   "cell_type": "code",
   "execution_count": 33,
   "metadata": {},
   "outputs": [],
   "source": [
    "# dw, db, cost = #Your code here; use your propogation function to return d2, db and the associated cost\n",
    "dw, db, cost = propagate(w=w, b=b, x=train_img_unrow, y=train_labels_final)"
   ]
  },
  {
   "cell_type": "code",
   "execution_count": 34,
   "metadata": {},
   "outputs": [
    {
     "name": "stdout",
     "output_type": "stream",
     "text": [
      "[[-0.0037186 ]\n",
      " [-0.00349504]\n",
      " [-0.00409342]\n",
      " ...\n",
      " [-0.00481085]\n",
      " [-0.00430246]\n",
      " [-0.00466915]]\n",
      "-0.000732421875\n",
      "0.04456268494810845\n"
     ]
    }
   ],
   "source": [
    "print(dw)\n",
    "\n",
    "print(db)\n",
    "\n",
    "print(cost)"
   ]
  },
  {
   "cell_type": "code",
   "execution_count": null,
   "metadata": {},
   "outputs": [],
   "source": []
  },
  {
   "cell_type": "markdown",
   "metadata": {},
   "source": [
    "## Optimization"
   ]
  },
  {
   "cell_type": "markdown",
   "metadata": {},
   "source": [
    "Next, in the optimization step, we have to update $w$ and $b$ as follows:\n",
    "\n",
    "$$w := w - \\alpha * dw$$\n",
    "$$b := b - \\alpha * db$$\n",
    "\n",
    "Note that this `optimization` function also takes in the propagation function. It loops over the `propagation` function in each iteration, and updates both $w$ and $b$ right after that! "
   ]
  },
  {
   "cell_type": "code",
   "execution_count": 40,
   "metadata": {},
   "outputs": [],
   "source": [
    "#Complete the function below using your propogation function to define dw, db and cost. \n",
    "#Then use the formula above to update w and b in the optimization function.\n",
    "def optimization(w, b, x, y, num_iterations, learning_rate, print_cost = False):\n",
    "    \n",
    "    costs = []\n",
    "    \n",
    "    for i in range(num_iterations):\n",
    "        dw, db, cost = propagate(b=b, w=w, x=x, y=y,) #Your code here \n",
    "        w = w - learning_rate * dw #Your code here\n",
    "        b = b - learning_rate * db #Your code here\n",
    "        \n",
    "        # Record the costs and print them every 50 iterations\n",
    "        if i % 50 == 0:\n",
    "            costs.append(cost)\n",
    "        if print_cost and i % 50 == 0:\n",
    "            print (\"Cost after iteration %i: %f\" %(i, cost))\n",
    "    \n",
    "    return w, b, costs"
   ]
  },
  {
   "cell_type": "code",
   "execution_count": 42,
   "metadata": {},
   "outputs": [
    {
     "name": "stdout",
     "output_type": "stream",
     "text": [
      "Cost after iteration 0: 0.044563\n",
      "Cost after iteration 50: 0.044234\n",
      "Cost after iteration 100: 0.044030\n",
      "Cost after iteration 150: 0.043899\n"
     ]
    }
   ],
   "source": [
    "#Run this block of code as is\n",
    "w, b, costs = optimization(w, b, train_img_unrow,\n",
    "                           train_labels_final, num_iterations= 151,\n",
    "                           learning_rate = 0.0001, print_cost = True)"
   ]
  },
  {
   "cell_type": "markdown",
   "metadata": {},
   "source": [
    "## Make label predictions: Santa or not?"
   ]
  },
  {
   "cell_type": "markdown",
   "metadata": {},
   "source": [
    "Next, let's create a function that makes label predictions. We'll later use this when we will look at our Santa pictures. What we want, is a label that is equal to 1 when the predicted $y$ is bigger than 0.5, and 0 otherwise."
   ]
  },
  {
   "cell_type": "code",
   "execution_count": 135,
   "metadata": {},
   "outputs": [],
   "source": [
    "def prediction(w, b, x):\n",
    "    l = x.shape[1]\n",
    "    y_prediction = np.zeros((1,l)) #Initialize a prediction vector\n",
    "#     w = w.reshape(x.shape[0], 1)\n",
    "    z = w.T @ x + b #Your code here; the sigmoid function given w, b and x\n",
    "    y_hat = 1 / (1 + np.exp(-z))\n",
    "    \n",
    "#     print(y_hat)\n",
    "    \n",
    "#     print(y_prediction)\n",
    "    \n",
    "    for i in range(y_hat.shape[1]):\n",
    "        #Transform the probability into a binary classification using 0.5 as the cutoff\n",
    "        if y_hat[0][i] > 0.5:\n",
    "            y_prediction[0,i] = 1\n",
    "        else:\n",
    "            y_prediction[0,i] = 0\n",
    "    return y_prediction"
   ]
  },
  {
   "cell_type": "markdown",
   "metadata": {},
   "source": [
    "Let's try this out on a small example. Make sure to have 4 predictions in your output here!"
   ]
  },
  {
   "cell_type": "code",
   "execution_count": 136,
   "metadata": {},
   "outputs": [
    {
     "name": "stdout",
     "output_type": "stream",
     "text": [
      "[[0.59228028 0.51369657 0.47749023 0.39484293]]\n",
      "[[0. 0. 0. 0.]]\n"
     ]
    },
    {
     "data": {
      "text/plain": [
       "array([[1., 1., 0., 0.]])"
      ]
     },
     "execution_count": 136,
     "metadata": {},
     "output_type": "execute_result"
    }
   ],
   "source": [
    "#Run this block of code as is\n",
    "w = np.array([[0.035],[0.123],[0.217]])\n",
    "b = 0.2\n",
    "x = np.array([[0.2,0.4,-1.2,-2],[1,-2.,0.1,-1],[0.2,0.4,-1.2,-2]])\n",
    "\n",
    "prediction(w,b,x)"
   ]
  },
  {
   "cell_type": "markdown",
   "metadata": {},
   "source": [
    "## The overall model"
   ]
  },
  {
   "cell_type": "markdown",
   "metadata": {},
   "source": [
    "Now, let's build the overall model!"
   ]
  },
  {
   "cell_type": "code",
   "execution_count": 137,
   "metadata": {},
   "outputs": [],
   "source": [
    "#This code is provided to you as is, but should be carefully reviewed.\n",
    "def model(x_train, y_train, x_test, y_test, num_iterations = 2000, learning_rate = 0.5, print_cost = False):\n",
    "\n",
    "    b = 0\n",
    "    w = init_w(np.shape(x_train)[0]) \n",
    "\n",
    "    # Gradient descent (≈ 1 line of code)\n",
    "    w, b, costs = optimization(w, b, x_train, y_train, num_iterations, learning_rate, print_cost)\n",
    "    \n",
    "    y_pred_test = prediction(w, b, x_test)\n",
    "    y_pred_train = prediction(w, b, x_train)\n",
    "\n",
    "    # Print train/test Errors\n",
    "    print(\"train accuracy: {} %\".format(100 - np.mean(np.abs(y_pred_train - y_train)) * 100))\n",
    "    print(\"test accuracy: {} %\".format(100 - np.mean(np.abs(y_pred_test - y_test)) * 100))\n",
    "\n",
    "    output = {\"costs\": costs,\n",
    "         \"y_pred_test\": y_pred_test, \n",
    "         \"y_pred_train\" : y_pred_train, \n",
    "         \"w\" : w, \n",
    "         \"b\" : b,\n",
    "         \"learning_rate\" : learning_rate,\n",
    "         \"num_iterations\": num_iterations}\n",
    "    \n",
    "    return output"
   ]
  },
  {
   "cell_type": "code",
   "execution_count": 139,
   "metadata": {},
   "outputs": [
    {
     "name": "stdout",
     "output_type": "stream",
     "text": [
      "Cost after iteration 0: 0.044563\n",
      "Cost after iteration 50: 0.042482\n",
      "Cost after iteration 100: 0.041302\n",
      "Cost after iteration 150: 0.040264\n",
      "Cost after iteration 200: 0.039342\n",
      "Cost after iteration 250: 0.038517\n",
      "Cost after iteration 300: 0.037771\n",
      "Cost after iteration 350: 0.037092\n",
      "Cost after iteration 400: 0.036470\n",
      "Cost after iteration 450: 0.035897\n",
      "Cost after iteration 500: 0.035366\n",
      "Cost after iteration 550: 0.034872\n",
      "Cost after iteration 600: 0.034411\n",
      "Cost after iteration 650: 0.033978\n",
      "Cost after iteration 700: 0.033570\n",
      "Cost after iteration 750: 0.033185\n",
      "Cost after iteration 800: 0.032820\n",
      "Cost after iteration 850: 0.032473\n",
      "Cost after iteration 900: 0.032144\n",
      "Cost after iteration 950: 0.031829\n",
      "Cost after iteration 1000: 0.031529\n",
      "Cost after iteration 1050: 0.031241\n",
      "Cost after iteration 1100: 0.030965\n",
      "Cost after iteration 1150: 0.030700\n",
      "Cost after iteration 1200: 0.030445\n",
      "Cost after iteration 1250: 0.030199\n",
      "Cost after iteration 1300: 0.029963\n",
      "Cost after iteration 1350: 0.029734\n",
      "Cost after iteration 1400: 0.029513\n",
      "Cost after iteration 1450: 0.029299\n",
      "Cost after iteration 1500: 0.029092\n",
      "Cost after iteration 1550: 0.028892\n",
      "Cost after iteration 1600: 0.028697\n",
      "Cost after iteration 1650: 0.028508\n",
      "Cost after iteration 1700: 0.028325\n",
      "Cost after iteration 1750: 0.028146\n",
      "Cost after iteration 1800: 0.027973\n",
      "Cost after iteration 1850: 0.027804\n",
      "Cost after iteration 1900: 0.027639\n",
      "Cost after iteration 1950: 0.027479\n",
      "[[0.28010912 0.85195912 0.79369986 0.26083151 0.09416533 0.80426434\n",
      "  0.7317291  0.30002315 0.56513315 0.27424005 0.81713938 0.8182096\n",
      "  0.51094774 0.43754609 0.24920457 0.399794   0.90277388 0.25562057\n",
      "  0.89646963 0.4205036  0.36665905 0.3731383  0.78676448 0.59550106\n",
      "  0.37237047 0.22086656 0.68913538 0.24498057 0.57691038 0.28989754\n",
      "  0.2884816  0.84547359 0.57608232 0.29370124 0.59151866 0.45812657\n",
      "  0.73836866 0.90696784 0.36364794 0.50462501 0.69735924 0.50183263\n",
      "  0.44043464 0.5274236  0.47050879 0.29986343 0.73088523 0.243401\n",
      "  0.52807042 0.54800015 0.39305097 0.47387784 0.64569192 0.51111479\n",
      "  0.32594948 0.5665225  0.33946462 0.48691932 0.29004087 0.31816095\n",
      "  0.33700826 0.74868769 0.90225082 0.16780308 0.33627056 0.63576177\n",
      "  0.33367695 0.76233207 0.19755786 0.37472116 0.4175051  0.48755478\n",
      "  0.5050212  0.54718073 0.83246642 0.53411957 0.87803264 0.50776546\n",
      "  0.6842366  0.71328772 0.32580936 0.61074725 0.56263812 0.43678004\n",
      "  0.66203484 0.67677985 0.41781867 0.43040694 0.73643772 0.36298781\n",
      "  0.35149665 0.46596728 0.52203142 0.75290371 0.50064935 0.38723181\n",
      "  0.38452126 0.62698683 0.68315737 0.01908863 0.6966154  0.52706407\n",
      "  0.55174324 0.15132433 0.78328999 0.42198839 0.60450929 0.59295192\n",
      "  0.51808493 0.27662205 0.63600901 0.73079654 0.66200352 0.5979365\n",
      "  0.1163431  0.71183384 0.49259229 0.73508911 0.3821604  0.751379\n",
      "  0.67563756 0.13970833 0.51494172 0.66049999 0.68000278 0.54691669\n",
      "  0.72830271 0.40259503 0.4673027  0.44845674 0.69450664 0.65107828]]\n",
      "[[0. 0. 0. 0. 0. 0. 0. 0. 0. 0. 0. 0. 0. 0. 0. 0. 0. 0. 0. 0. 0. 0. 0. 0.\n",
      "  0. 0. 0. 0. 0. 0. 0. 0. 0. 0. 0. 0. 0. 0. 0. 0. 0. 0. 0. 0. 0. 0. 0. 0.\n",
      "  0. 0. 0. 0. 0. 0. 0. 0. 0. 0. 0. 0. 0. 0. 0. 0. 0. 0. 0. 0. 0. 0. 0. 0.\n",
      "  0. 0. 0. 0. 0. 0. 0. 0. 0. 0. 0. 0. 0. 0. 0. 0. 0. 0. 0. 0. 0. 0. 0. 0.\n",
      "  0. 0. 0. 0. 0. 0. 0. 0. 0. 0. 0. 0. 0. 0. 0. 0. 0. 0. 0. 0. 0. 0. 0. 0.\n",
      "  0. 0. 0. 0. 0. 0. 0. 0. 0. 0. 0. 0.]]\n",
      "[[0.40009171 0.77630008 0.60560108 0.6843421  0.59284755 0.93918652\n",
      "  0.7637324  0.42548886 0.53777818 0.2551237  0.48828518 0.27550091\n",
      "  0.67691203 0.466075   0.19876669 0.76044756 0.50846634 0.27909772\n",
      "  0.91814822 0.28568985 0.71597959 0.78380525 0.6413067  0.44937847\n",
      "  0.87431643 0.71784223 0.75325823 0.52396355 0.14457458 0.14676744\n",
      "  0.50674578 0.67124712 0.94433678 0.75782168 0.16553021 0.29228313\n",
      "  0.38509176 0.42436874 0.90094268 0.82057427 0.60369342 0.7650384\n",
      "  0.70077508 0.3028042  0.61526595 0.49005451 0.28502945 0.90494443\n",
      "  0.92348282 0.44903476 0.42676037 0.33356446 0.83880519 0.2914408\n",
      "  0.77149233 0.56047418 0.79062219 0.31353209 0.20098082 0.70276668\n",
      "  0.75060753 0.50073506 0.18589429 0.40630827 0.93221    0.35397411\n",
      "  0.44993656 0.81527743 0.79510872 0.67962062 0.19976415 0.8540607\n",
      "  0.17340143 0.93779491 0.60751474 0.22563851 0.35857613 0.92878518\n",
      "  0.66161595 0.41826854 0.63597377 0.36892736 0.98371093 0.31394803\n",
      "  0.91333854 0.27394385 0.22721957 0.29778703 0.35012194 0.91958618\n",
      "  0.38377471 0.59436873 0.20146827 0.43694196 0.26764011 0.73781469\n",
      "  0.26457097 0.50465046 0.45594353 0.27191229 0.56415655 0.57546278\n",
      "  0.35931227 0.29417868 0.05043094 0.5965778  0.87334876 0.67202393\n",
      "  0.78534467 0.35944642 0.86560484 0.89352607 0.74436316 0.35655346\n",
      "  0.3009436  0.90554991 0.55478179 0.57145957 0.77549677 0.5481879\n",
      "  0.86866162 0.73848089 0.34833836 0.340563   0.4953217  0.93500318\n",
      "  0.29626933 0.25731895 0.34195891 0.9504662  0.62241021 0.21247837\n",
      "  0.59223894 0.54418818 0.81819705 0.76683195 0.61494286 0.8442543\n",
      "  0.52077296 0.86699752 0.56765482 0.28239918 0.76141363 0.3660929\n",
      "  0.93144821 0.18882016 0.62862591 0.82580261 0.62350968 0.39482381\n",
      "  0.29238715 0.60970686 0.75187886 0.64752922 0.75820901 0.39565164\n",
      "  0.38229509 0.32423292 0.58608559 0.70200358 0.85227853 0.24288594\n",
      "  0.69396232 0.23946792 0.35746319 0.58244226 0.79373552 0.54236266\n",
      "  0.68288863 0.78627355 0.81983171 0.1094666  0.33488477 0.83965475\n",
      "  0.85734653 0.34649572 0.36260091 0.44394961 0.12570123 0.09815054\n",
      "  0.47236354 0.67952262 0.4233077  0.35695303 0.34539545 0.63183866\n",
      "  0.67537633 0.35232582 0.92692553 0.50155947 0.85126464 0.96737429\n",
      "  0.7561096  0.25221205 0.79686992 0.32630256 0.14201808 0.68450806\n",
      "  0.18460112 0.43103416 0.87733329 0.65412607 0.2728891  0.81512701\n",
      "  0.971246   0.52251004 0.32208116 0.70838557 0.5760172  0.58102153\n",
      "  0.79758364 0.44235656 0.43361008 0.1841187  0.1535243  0.23994475\n",
      "  0.65840483 0.87758003 0.88631561 0.79923914 0.7723185  0.46890489\n",
      "  0.79584859 0.41304826 0.65920535 0.87657478 0.28477213 0.72350097\n",
      "  0.87091641 0.66993022 0.52329083 0.63273953 0.66341811 0.58910264\n",
      "  0.40053268 0.31145994 0.90681603 0.2434148  0.44266039 0.83368178\n",
      "  0.49042663 0.72002339 0.66639975 0.78977984 0.54700208 0.98272193\n",
      "  0.4177069  0.79770175 0.3945927  0.83346542 0.15578274 0.20583226\n",
      "  0.39724135 0.67644363 0.73259543 0.55762259 0.84938941 0.64948789\n",
      "  0.75892754 0.86403867 0.11316689 0.40661785 0.62137205 0.79553697\n",
      "  0.92821833 0.65412462 0.58182812 0.40849989 0.90926798 0.53183343\n",
      "  0.37611145 0.74249276 0.64312185 0.32384382 0.22412254 0.51142221\n",
      "  0.4044309  0.26673997 0.48610805 0.44001123 0.74778538 0.85557873\n",
      "  0.57540285 0.61915811 0.50217883 0.25170463 0.26070903 0.41915387\n",
      "  0.36248817 0.37149193 0.84769588 0.4114881  0.81855286 0.39850685\n",
      "  0.29236607 0.5159598  0.70479094 0.2848727  0.3674176  0.75769474\n",
      "  0.32025618 0.62765468 0.21626354 0.67730147 0.46445252 0.39238171\n",
      "  0.89256304 0.37915071 0.71496367 0.40343695 0.76119972 0.32898957\n",
      "  0.64894917 0.71422009 0.43346156 0.64877862 0.31904831 0.47757797\n",
      "  0.71127294 0.40691692 0.09512919 0.27310459 0.38489672 0.95918907\n",
      "  0.82823903 0.60747451 0.728621   0.63844492 0.45437283 0.51068802\n",
      "  0.89064032 0.55628664 0.81117362 0.25164678 0.7577074  0.64833165\n",
      "  0.35858827 0.98208753 0.60465312 0.64348904 0.97373418 0.25448615\n",
      "  0.34216089 0.76415698 0.97615161 0.88533634 0.47612183 0.27507209\n",
      "  0.31225256 0.33829965 0.5390605  0.56630149 0.43522223 0.73154422\n",
      "  0.52177763 0.11223489 0.28795163 0.89150186 0.14721171 0.56868662\n",
      "  0.27280065 0.76486721 0.73381938 0.34665475 0.52371422 0.87064607\n",
      "  0.83684295 0.94423726 0.64314223 0.40945427 0.33909217 0.63123326\n",
      "  0.33882371 0.24030139 0.70068195 0.76763181 0.2712826  0.6281171\n",
      "  0.92421607 0.30249802 0.89101333 0.63097089 0.35108037 0.44808581\n",
      "  0.69915311 0.70202653 0.22697362 0.76271323 0.72597776 0.39228099\n",
      "  0.5781745  0.79196942 0.83880802 0.78413671 0.28517351 0.94173389\n",
      "  0.93603256 0.64313228 0.65926314 0.37906818 0.19176242 0.47957941\n",
      "  0.70493458 0.77303609 0.9658209  0.35675414 0.94916078 0.80982407\n",
      "  0.33199542 0.78299471 0.63584621 0.24672221 0.23145717 0.52085468\n",
      "  0.3501269  0.92186257 0.13895325 0.77936945 0.91832881 0.89078449\n",
      "  0.71156193 0.17864126 0.71097343 0.14096791 0.36685177 0.46288618\n",
      "  0.43895249 0.66902658 0.43388802 0.68720064 0.24116163 0.72587368\n",
      "  0.88357696 0.34232513 0.47440774 0.72619738 0.91267718 0.96830869\n",
      "  0.66093842 0.49522931 0.16828069 0.76736053 0.94822483 0.5815723\n",
      "  0.23399399 0.57005155 0.92928711 0.30131841 0.60239612 0.28963771\n",
      "  0.84283818 0.32116433 0.40039267 0.85162673 0.69960535 0.90575103\n",
      "  0.69128401 0.20775661 0.95140584 0.66961299 0.88181408 0.7491813\n",
      "  0.56146229 0.78171357 0.33631045 0.31746435 0.66277378 0.83814993\n",
      "  0.53528145 0.7880782  0.39569426 0.59255641 0.54943392 0.77412752\n",
      "  0.35209384 0.5918234  0.90866466 0.18234324 0.44105705 0.73338205\n",
      "  0.57264342 0.35925797 0.86588604 0.38523823 0.93179377 0.51014714\n",
      "  0.32183913 0.70856825 0.57488489 0.24988661 0.94610567 0.58391463\n",
      "  0.78595698 0.35041285 0.43269694 0.13878203 0.45071703 0.46186252\n",
      "  0.67786835 0.23169356 0.29238884 0.37230039 0.41748601 0.51101132\n",
      "  0.95678966 0.64131247 0.83907963 0.9749697  0.31709083 0.29025199\n",
      "  0.22800288 0.43326249 0.59536054 0.19297127 0.90247346 0.46167393\n",
      "  0.38648166 0.67857421 0.71451955 0.61161883 0.49637798 0.28975809\n",
      "  0.26183135 0.17653241 0.45124065 0.93746206 0.77469294 0.38967125\n",
      "  0.28506185 0.24752164 0.37427332 0.71412702 0.16804608 0.31542571\n",
      "  0.77026878 0.21149173 0.22174638 0.62116927 0.4933368  0.88543901\n",
      "  0.44521303 0.8787073  0.33409752 0.99346914 0.76210289 0.78632764\n",
      "  0.25501781 0.81935757 0.66562142 0.32204741 0.56147656 0.15553726\n",
      "  0.94243819 0.64569087 0.53873374 0.51504723 0.7295427  0.92539218\n",
      "  0.44075391 0.11770942 0.83351782 0.75976419 0.35935949 0.70750532\n",
      "  0.23623991 0.3676983  0.75641354 0.77801972 0.36685756 0.72791159\n",
      "  0.96699347 0.5475059  0.58116361 0.52534309 0.91087478 0.55808272\n",
      "  0.39196688 0.49650115 0.29523095 0.20216704 0.23714505 0.62838794\n",
      "  0.48642906 0.49485338 0.21126522 0.73327349 0.44223793 0.27893145\n",
      "  0.2787619  0.39255501 0.37119137 0.46989995 0.1324777  0.25535302\n",
      "  0.91992435 0.92456441 0.44486707 0.44575118 0.28443119 0.62910491\n",
      "  0.36690624 0.76468216 0.19563532 0.95031325 0.74466626 0.66153978\n",
      "  0.26334338 0.55257386 0.15884417 0.77482363 0.78726656 0.50893911\n",
      "  0.30206462 0.36231276 0.74531392 0.59208821 0.14966556 0.42436267\n",
      "  0.64684781 0.30018627 0.25478199 0.4595105  0.27024111 0.1245007\n",
      "  0.92260458 0.20258577 0.50449343 0.2096074  0.9273223  0.89942379\n",
      "  0.77360667 0.74372188 0.82200853 0.42625936 0.83770455 0.64573707\n",
      "  0.32923718 0.26994429 0.55146635 0.50795975 0.42332729 0.59275723\n",
      "  0.31362616 0.14893389 0.83430108 0.42006531 0.5324055  0.87611637\n",
      "  0.86944699 0.77955621 0.66959375 0.12965758 0.49004269 0.1113952\n",
      "  0.40908748 0.43960652 0.3947723  0.56357505 0.50447811 0.94650866\n",
      "  0.50399366 0.8176311  0.39460839 0.25804853 0.9541348  0.568457\n",
      "  0.73397034 0.61980233 0.70683085 0.64650666 0.61993214 0.96536014\n",
      "  0.42072261 0.76874203 0.494468   0.6642212  0.74970642 0.39798327\n",
      "  0.73646574 0.1683153  0.67171488 0.20306257 0.31496451 0.72661005\n",
      "  0.89173674 0.78640999 0.36279567 0.71944828 0.4702739  0.94905964\n",
      "  0.28971743 0.90511027 0.34604476 0.76068467 0.94823446 0.72197645\n",
      "  0.34270204 0.29329276 0.53837125 0.77885876 0.35355696 0.63115348\n",
      "  0.50467367 0.8933302  0.59709999 0.39535211 0.57662901 0.23055365\n",
      "  0.70919164 0.29678744 0.75737306 0.36662007 0.3481229  0.5597354\n",
      "  0.68430966 0.32010695 0.91427165 0.17478086 0.57121587 0.80088944\n",
      "  0.61482677 0.65342085 0.24756015 0.8888037  0.57146764 0.33324325\n",
      "  0.71332045 0.75952221 0.57924656 0.51956095 0.76275378 0.32983104\n",
      "  0.30928984 0.72807848 0.31589562 0.68003013 0.7389474  0.82620552\n",
      "  0.72867807 0.38678996 0.79863978 0.53272447 0.28132967 0.40556051\n",
      "  0.31815225 0.91675393 0.40903492 0.88476111 0.81081628 0.67553514\n",
      "  0.37741298 0.97891429 0.30229996 0.2573532  0.72225915 0.59847375\n",
      "  0.82903972 0.50615609 0.75678467 0.52109804 0.66324052 0.61050859\n",
      "  0.25982326 0.67614477 0.42468766 0.54616964 0.30164508 0.33126711\n",
      "  0.67040694 0.34850566 0.33694061 0.2593247  0.62376732 0.74108101\n",
      "  0.24766476 0.33262212 0.55615041 0.49728887 0.43021489 0.32143978\n",
      "  0.2742371  0.72027235 0.63748371 0.35388008 0.25177072 0.69659898\n",
      "  0.86578975 0.79197792 0.3165535  0.68357491]]\n",
      "[[0. 0. 0. 0. 0. 0. 0. 0. 0. 0. 0. 0. 0. 0. 0. 0. 0. 0. 0. 0. 0. 0. 0. 0.\n",
      "  0. 0. 0. 0. 0. 0. 0. 0. 0. 0. 0. 0. 0. 0. 0. 0. 0. 0. 0. 0. 0. 0. 0. 0.\n",
      "  0. 0. 0. 0. 0. 0. 0. 0. 0. 0. 0. 0. 0. 0. 0. 0. 0. 0. 0. 0. 0. 0. 0. 0.\n",
      "  0. 0. 0. 0. 0. 0. 0. 0. 0. 0. 0. 0. 0. 0. 0. 0. 0. 0. 0. 0. 0. 0. 0. 0.\n",
      "  0. 0. 0. 0. 0. 0. 0. 0. 0. 0. 0. 0. 0. 0. 0. 0. 0. 0. 0. 0. 0. 0. 0. 0.\n",
      "  0. 0. 0. 0. 0. 0. 0. 0. 0. 0. 0. 0. 0. 0. 0. 0. 0. 0. 0. 0. 0. 0. 0. 0.\n",
      "  0. 0. 0. 0. 0. 0. 0. 0. 0. 0. 0. 0. 0. 0. 0. 0. 0. 0. 0. 0. 0. 0. 0. 0.\n",
      "  0. 0. 0. 0. 0. 0. 0. 0. 0. 0. 0. 0. 0. 0. 0. 0. 0. 0. 0. 0. 0. 0. 0. 0.\n",
      "  0. 0. 0. 0. 0. 0. 0. 0. 0. 0. 0. 0. 0. 0. 0. 0. 0. 0. 0. 0. 0. 0. 0. 0.\n",
      "  0. 0. 0. 0. 0. 0. 0. 0. 0. 0. 0. 0. 0. 0. 0. 0. 0. 0. 0. 0. 0. 0. 0. 0.\n",
      "  0. 0. 0. 0. 0. 0. 0. 0. 0. 0. 0. 0. 0. 0. 0. 0. 0. 0. 0. 0. 0. 0. 0. 0.\n",
      "  0. 0. 0. 0. 0. 0. 0. 0. 0. 0. 0. 0. 0. 0. 0. 0. 0. 0. 0. 0. 0. 0. 0. 0.\n",
      "  0. 0. 0. 0. 0. 0. 0. 0. 0. 0. 0. 0. 0. 0. 0. 0. 0. 0. 0. 0. 0. 0. 0. 0.\n",
      "  0. 0. 0. 0. 0. 0. 0. 0. 0. 0. 0. 0. 0. 0. 0. 0. 0. 0. 0. 0. 0. 0. 0. 0.\n",
      "  0. 0. 0. 0. 0. 0. 0. 0. 0. 0. 0. 0. 0. 0. 0. 0. 0. 0. 0. 0. 0. 0. 0. 0.\n",
      "  0. 0. 0. 0. 0. 0. 0. 0. 0. 0. 0. 0. 0. 0. 0. 0. 0. 0. 0. 0. 0. 0. 0. 0.\n",
      "  0. 0. 0. 0. 0. 0. 0. 0. 0. 0. 0. 0. 0. 0. 0. 0. 0. 0. 0. 0. 0. 0. 0. 0.\n",
      "  0. 0. 0. 0. 0. 0. 0. 0. 0. 0. 0. 0. 0. 0. 0. 0. 0. 0. 0. 0. 0. 0. 0. 0.\n",
      "  0. 0. 0. 0. 0. 0. 0. 0. 0. 0. 0. 0. 0. 0. 0. 0. 0. 0. 0. 0. 0. 0. 0. 0.\n",
      "  0. 0. 0. 0. 0. 0. 0. 0. 0. 0. 0. 0. 0. 0. 0. 0. 0. 0. 0. 0. 0. 0. 0. 0.\n",
      "  0. 0. 0. 0. 0. 0. 0. 0. 0. 0. 0. 0. 0. 0. 0. 0. 0. 0. 0. 0. 0. 0. 0. 0.\n",
      "  0. 0. 0. 0. 0. 0. 0. 0. 0. 0. 0. 0. 0. 0. 0. 0. 0. 0. 0. 0. 0. 0. 0. 0.\n",
      "  0. 0. 0. 0. 0. 0. 0. 0. 0. 0. 0. 0. 0. 0. 0. 0. 0. 0. 0. 0. 0. 0. 0. 0.\n",
      "  0. 0. 0. 0. 0. 0. 0. 0. 0. 0. 0. 0. 0. 0. 0. 0. 0. 0. 0. 0. 0. 0. 0. 0.\n",
      "  0. 0. 0. 0. 0. 0. 0. 0. 0. 0. 0. 0. 0. 0. 0. 0. 0. 0. 0. 0. 0. 0. 0. 0.\n",
      "  0. 0. 0. 0. 0. 0. 0. 0. 0. 0. 0. 0. 0. 0. 0. 0. 0. 0. 0. 0. 0. 0. 0. 0.\n",
      "  0. 0. 0. 0. 0. 0. 0. 0. 0. 0. 0. 0. 0. 0. 0. 0. 0. 0. 0. 0. 0. 0. 0. 0.\n",
      "  0. 0. 0. 0. 0. 0. 0. 0. 0. 0. 0. 0. 0. 0. 0. 0. 0. 0. 0. 0. 0. 0. 0. 0.\n",
      "  0. 0. 0. 0. 0. 0. 0. 0. 0. 0. 0. 0. 0. 0. 0. 0. 0. 0. 0. 0. 0. 0. 0. 0.\n",
      "  0. 0. 0. 0. 0. 0. 0. 0. 0. 0. 0. 0. 0. 0. 0. 0. 0. 0. 0. 0. 0. 0. 0. 0.\n",
      "  0. 0. 0. 0. 0. 0. 0. 0. 0. 0. 0. 0. 0. 0. 0. 0. 0. 0. 0. 0. 0. 0. 0. 0.\n",
      "  0. 0. 0. 0. 0. 0. 0. 0. 0. 0. 0. 0. 0. 0. 0. 0. 0. 0. 0. 0. 0. 0. 0. 0.\n",
      "  0. 0. 0. 0. 0. 0. 0. 0. 0. 0. 0. 0. 0. 0. 0. 0. 0. 0. 0. 0. 0. 0.]]\n",
      "train accuracy: 86.20253164556962 %\n",
      "test accuracy: 72.72727272727273 %\n"
     ]
    }
   ],
   "source": [
    "#Run the model!\n",
    "output = model(train_img_unrow, train_labels_final,\n",
    "               test_img_unrow, test_labels_final,\n",
    "               num_iterations = 2000, learning_rate = 0.005,\n",
    "               print_cost = True)\n"
   ]
  },
  {
   "cell_type": "markdown",
   "metadata": {},
   "source": [
    "## Summary\n",
    "\n",
    "Well done! In this lab you implemented your first neural network in order to identify images of Santa! In upcoming labs you'll see how to extend your neural networks to include a larger number of layers and how to then successively prune these complex schemas to improve test and train accuracies."
   ]
  }
 ],
 "metadata": {
  "kernelspec": {
   "display_name": "Python 3",
   "language": "python",
   "name": "python3"
  },
  "language_info": {
   "codemirror_mode": {
    "name": "ipython",
    "version": 3
   },
   "file_extension": ".py",
   "mimetype": "text/x-python",
   "name": "python",
   "nbconvert_exporter": "python",
   "pygments_lexer": "ipython3",
   "version": "3.6.6"
  }
 },
 "nbformat": 4,
 "nbformat_minor": 2
}
